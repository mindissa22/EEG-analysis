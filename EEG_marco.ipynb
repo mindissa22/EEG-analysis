{
 "cells": [
  {
   "cell_type": "markdown",
   "metadata": {},
   "source": [
    "# MSc Project: Analysing EEG data \n",
    "\n",
    "**Data source**: the dataset with EEG data for ADHD / control on children is available [here](https://ieee-dataport.org/open-access/eeg-data-adhd-control-children), and the relative article is [here](https://www.degruyter.com/document/doi/10.1515/bmt-2022-0100/html?casa_token=mQexJcMpDvcAAAAA:_AQbDgDT3K7E6kzWCpRq6_LthpnCaFRcI8VsNM5SfRbN0EaR-Aes1UGAE543D_aMvGK3p9bPkdGX).\n",
    "\n",
    "**Methodology**: the main reference is the article \"EEG conformer: Convolutional transformer for EEG decoding and visualization\", available [here](https://ieeexplore.ieee.org/abstract/document/9991178). \n"
   ]
  },
  {
   "cell_type": "code",
   "execution_count": 6,
   "metadata": {},
   "outputs": [],
   "source": [
    "from pathlib import Path\n",
    "\n",
    "from scipy.io import loadmat\n",
    "\n",
    "import matplotlib.pyplot as plt"
   ]
  },
  {
   "cell_type": "code",
   "execution_count": 3,
   "metadata": {},
   "outputs": [],
   "source": [
    "DATA_DIR = Path.home() / \"MyData/EEG_ADHD\""
   ]
  },
  {
   "cell_type": "code",
   "execution_count": 4,
   "metadata": {},
   "outputs": [],
   "source": [
    "raw_control = DATA_DIR / \"Control_part1\" / \"v44p.mat\"\n",
    "\n",
    "data = loadmat(raw_control)  \n",
    "eeg_data = data ['v44p']\n",
    "n_channels = eeg_data.shape[0]\n",
    "n_time_samples = eeg_data.shape[1]\n",
    "n_trials = eeg_data[2]"
   ]
  },
  {
   "cell_type": "code",
   "execution_count": 5,
   "metadata": {},
   "outputs": [
    {
     "name": "stdout",
     "output_type": "stream",
     "text": [
      "channels: 11393, time samples: 19, trials: [226 191 200 156 126  89 200  52  16 -57 200 126 126 126 -57  52 261  50\n",
      " 121]\n"
     ]
    }
   ],
   "source": [
    "print(f\"channels: {n_channels}, time samples: {n_time_samples}, trials: {n_trials}\")"
   ]
  },
  {
   "cell_type": "code",
   "execution_count": null,
   "metadata": {},
   "outputs": [],
   "source": [
    "# Plotting the EEG data for a single channel\n",
    "channel = 0  # Change this to the channel you want to plot\n",
    "#time = range(eeg_data.shape[1])  # Assuming the second dimension is time\n",
    "time = range(eeg_data.shape[0])  # Assuming the second dimension is time\n",
    "\n",
    "plt.figure(figsize=(12, 6))\n",
    "# plt.plot(time, eeg_data[\"channel\", :])\n",
    "plt.plot(time, eeg_data[:, channel])\n",
    "plt.xlabel('Time (samples)')\n",
    "plt.ylabel('Voltage (μV)')\n",
    "plt.title(f'EEG Channel {channel + 1}')\n",
    "plt.show()"
   ]
  },
  {
   "cell_type": "code",
   "execution_count": 6,
   "metadata": {},
   "outputs": [],
   "source": [
    "#Process EEG data using MNE library\n",
    "import mne\n",
    "\n",
    "#MNE information object creation\n",
    "sampling_rate = 256  # sampling rate of your data\n",
    "info = mne.create_info(ch_names=[f\"ch_{i + 1}\" for i in range(n_channels)],\n",
    "                       sfreq=sampling_rate,\n",
    "                       ch_types='eeg')\n"
   ]
  },
  {
   "cell_type": "code",
   "execution_count": 7,
   "metadata": {},
   "outputs": [
    {
     "name": "stdout",
     "output_type": "stream",
     "text": [
      "Creating RawArray with float64 data, n_channels=11393, n_times=19\n",
      "    Range : 0 ... 18 =      0.000 ...     0.070 secs\n",
      "Ready.\n",
      "Filtering raw data in 1 contiguous segment\n",
      "Setting up band-pass filter from 1 - 48 Hz\n",
      "\n",
      "IIR filter parameters\n",
      "---------------------\n",
      "Butterworth bandpass zero-phase (two-pass forward and reverse) non-causal filter:\n",
      "- Filter order 16 (effective, after forward-backward)\n",
      "- Cutoffs at 1.00, 48.00 Hz: -6.02, -6.02 dB\n",
      "\n",
      "Using qt as 2D backend.\n",
      "Using pyopengl with version 3.1.6\n"
     ]
    },
    {
     "data": {
      "text/plain": [
       "<mne_qt_browser._pg_figure.MNEQtBrowser at 0x175cb2ef0>"
      ]
     },
     "execution_count": 7,
     "metadata": {},
     "output_type": "execute_result"
    },
    {
     "name": "stdout",
     "output_type": "stream",
     "text": [
      "Channels marked as bad:\n",
      "none\n"
     ]
    }
   ],
   "source": [
    "#creating raw mne object\n",
    "raw = mne.io.RawArray(eeg_data, info)\n",
    "\n",
    "#Applying a bandpass filter as performed in the study from 1Hz to 48Hz\n",
    "raw.filter(1, 48, method='iir')\n",
    "\n",
    "#Plot\n",
    "raw.plot(duration=60.0, scalings={'eeg': 20e-6}, n_channels=19)\n"
   ]
  }
 ],
 "metadata": {
  "kernelspec": {
   "display_name": "EEG",
   "language": "python",
   "name": "python3"
  },
  "language_info": {
   "codemirror_mode": {
    "name": "ipython",
    "version": 3
   },
   "file_extension": ".py",
   "mimetype": "text/x-python",
   "name": "python",
   "nbconvert_exporter": "python",
   "pygments_lexer": "ipython3",
   "version": "3.10.14"
  }
 },
 "nbformat": 4,
 "nbformat_minor": 2
}
